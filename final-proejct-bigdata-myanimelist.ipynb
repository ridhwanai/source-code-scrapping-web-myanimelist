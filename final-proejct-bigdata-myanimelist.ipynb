{
 "cells": [
  {
   "cell_type": "code",
   "execution_count": 13,
   "id": "ea81ee97-1b92-4309-816b-ce450f48fe1a",
   "metadata": {},
   "outputs": [
    {
     "name": "stdout",
     "output_type": "stream",
     "text": [
      "                                title   type  score  episodes  members  rank  \\\n",
      "0                   Sousou no Frieren     TV   9.30      28.0  1172597   1.0   \n",
      "1    Fullmetal Alchemist: Brotherhood     TV   9.10      64.0  3548367   2.0   \n",
      "2                         Steins;Gate     TV   9.07      24.0  2717073   3.0   \n",
      "3  Shingeki no Kyojin Season 3 Part 2     TV   9.05      10.0  2470344   4.0   \n",
      "4                  Gintama: The Final  Movie   9.05       1.0   171969   5.0   \n",
      "\n",
      "   popularity  start_date  \n",
      "0         137  2023-09-29  \n",
      "1           3  2009-04-05  \n",
      "2          14  2011-04-06  \n",
      "3          21  2019-04-29  \n",
      "4        1524  2021-01-08  \n"
     ]
    }
   ],
   "source": [
    "import requests\n",
    "import pandas as pd\n",
    "import time\n",
    "\n",
    "anime_data = []\n",
    "\n",
    "# Ambil 4 halaman → 100 anime\n",
    "for page in range(1, 5):\n",
    "    url = f\"https://api.jikan.moe/v4/top/anime?page={page}\"\n",
    "    res = requests.get(url)\n",
    "    data = res.json()\n",
    "\n",
    "    for item in data['data']:\n",
    "        anime_data.append({\n",
    "            'title': item['title'],\n",
    "            'type': item['type'],\n",
    "            'score': item['score'],\n",
    "            'episodes': item['episodes'],\n",
    "            'members': item['members'],\n",
    "            'rank': item['rank'],\n",
    "            'popularity': item['popularity'],\n",
    "            'start_date': item['aired']['from'][:10] if item['aired']['from'] else None\n",
    "        })\n",
    "    time.sleep(1)  # delay biar aman\n",
    "\n",
    "# Masukkan ke DataFrame\n",
    "df = pd.DataFrame(anime_data)\n",
    "df = df.sort_values(by='rank').reset_index(drop=True)\n",
    "\n",
    "# Tampilkan 5 data teratas\n",
    "print(df.head())\n"
   ]
  },
  {
   "cell_type": "code",
   "execution_count": 14,
   "id": "97efaf21-9e72-4d5c-8575-2af9c8bdad11",
   "metadata": {},
   "outputs": [
    {
     "name": "stdout",
     "output_type": "stream",
     "text": [
      "Data berhasil disimpan ke top_100_anime.csv\n"
     ]
    }
   ],
   "source": [
    "df.to_csv('top_100_anime.csv', index=False)\n",
    "print(\"Data berhasil disimpan ke top_100_anime.csv\")\n"
   ]
  },
  {
   "cell_type": "code",
   "execution_count": 15,
   "id": "4bfc1556-ab8a-42a4-9d93-0993794dd35c",
   "metadata": {},
   "outputs": [
    {
     "name": "stdout",
     "output_type": "stream",
     "text": [
      "Missing value:\n",
      " title         0\n",
      "type          0\n",
      "score         0\n",
      "episodes      1\n",
      "members       0\n",
      "rank          2\n",
      "popularity    0\n",
      "start_date    0\n",
      "dtype: int64\n",
      "Data sudah dibersihkan dan disimpan ke top_100_anime_clean.csv\n"
     ]
    }
   ],
   "source": [
    "# Cek missing value\n",
    "print(\"Missing value:\\n\", df.isnull().sum())\n",
    "\n",
    "# Hapus baris dengan nilai kosong di kolom penting\n",
    "df = df.dropna(subset=['score', 'episodes', 'start_date'])\n",
    "\n",
    "# Konversi start_date ke datetime + ambil tahunnya\n",
    "df['start_date'] = pd.to_datetime(df['start_date'])\n",
    "df['year'] = df['start_date'].dt.year\n",
    "\n",
    "# Reset index\n",
    "df = df.reset_index(drop=True)\n",
    "\n",
    "# Simpan versi bersih\n",
    "df.to_csv('top_100_anime_clean.csv', index=False)\n",
    "print(\"Data sudah dibersihkan dan disimpan ke top_100_anime_clean.csv\")\n"
   ]
  },
  {
   "cell_type": "code",
   "execution_count": 1,
   "id": "02020967-6b04-4919-9a51-7177bf3766bb",
   "metadata": {},
   "outputs": [
    {
     "data": {
      "text/html": [
       "\n",
       "        <iframe\n",
       "            width=\"100%\"\n",
       "            height=\"650\"\n",
       "            src=\"http://127.0.0.1:8055/\"\n",
       "            frameborder=\"0\"\n",
       "            allowfullscreen\n",
       "            \n",
       "        ></iframe>\n",
       "        "
      ],
      "text/plain": [
       "<IPython.lib.display.IFrame at 0x268559bb950>"
      ]
     },
     "metadata": {},
     "output_type": "display_data"
    }
   ],
   "source": [
    "import dash\n",
    "from dash import html, dcc\n",
    "import plotly.express as px\n",
    "import pandas as pd\n",
    "from dash.dependencies import Input, Output\n",
    "\n",
    "# Load cleaned anime data\n",
    "df = pd.read_csv(\"top_100_anime_clean.csv\")\n",
    "df = df.sort_values(by='rank').reset_index(drop=True)\n",
    "\n",
    "# Inisialisasi aplikasi Dash\n",
    "app = dash.Dash(__name__)\n",
    "app.title = \"Dashboard Anime Top 100\"\n",
    "\n",
    "# Layout Aplikasi\n",
    "app.layout = html.Div([\n",
    "    html.H1(\"Dashboard Interaktif: Top 100 Anime Terbaik - MyAnimeList\",\n",
    "            style={'textAlign': 'center', 'color': '#5C5470'}),\n",
    "\n",
    "    html.Div([\n",
    "        html.H4(f\"Jumlah Anime: {len(df)}\"),\n",
    "        html.H4(f\"Skor Tertinggi: {df['score'].max()}\"),\n",
    "        html.H4(f\"Skor Terendah: {df['score'].min()}\"),\n",
    "        html.H4(f\"Tahun Rilis Paling Awal: {df['year'].min()}\"),\n",
    "        html.H4(f\"Tahun Rilis Terbaru: {df['year'].max()}\"),\n",
    "    ], style={'textAlign': 'left', 'marginBottom': '30px'}),\n",
    "\n",
    "    dcc.Dropdown(\n",
    "        id='type-dropdown',\n",
    "        options=[{'label': t, 'value': t} for t in df['type'].dropna().unique()],\n",
    "        value=None,\n",
    "        placeholder=\"Filter berdasarkan tipe anime...\",\n",
    "        style={'marginBottom': '20px'}\n",
    "    ),\n",
    "\n",
    "    dcc.Slider(\n",
    "        id='year-slider',\n",
    "        min=df['year'].min(),\n",
    "        max=df['year'].max(),\n",
    "        step=1,\n",
    "        value=df['year'].max(),\n",
    "        marks={str(year): str(year) for year in sorted(df['year'].unique())},\n",
    "        tooltip={\"placement\": \"bottom\", \"always_visible\": True}\n",
    "    ),\n",
    "\n",
    "    dcc.Graph(id='score-vs-members'),\n",
    "\n",
    "    dcc.Graph(\n",
    "        figure=px.pie(df, names='type', title='Distribusi Tipe Anime')\n",
    "    ),\n",
    "\n",
    "    dcc.Graph(\n",
    "        figure=px.histogram(df, x='year', nbins=20, title='Distribusi Tahun Rilis Anime')\n",
    "    ),\n",
    "\n",
    "    dcc.Graph(\n",
    "        figure=px.bar(\n",
    "            df.sort_values(by='score', ascending=False).head(10),\n",
    "            x='title', y='score', color='type',\n",
    "            title='Top 10 Anime Berdasarkan Skor',\n",
    "            text_auto='.2s'\n",
    "        ).update_layout(xaxis_tickangle=-45)\n",
    "    ),\n",
    "\n",
    "    dcc.Graph(\n",
    "        figure=px.scatter(df, x='episodes', y='score', size='members', color='type',\n",
    "                          hover_name='title', title='Jumlah Episode vs Skor Rating', log_x=True)\n",
    "    )\n",
    "])\n",
    "\n",
    "# Callback interaktif\n",
    "@app.callback(\n",
    "    Output('score-vs-members', 'figure'),\n",
    "    [Input('type-dropdown', 'value'),\n",
    "     Input('year-slider', 'value')]\n",
    ")\n",
    "def update_scatter(selected_type, selected_year):\n",
    "    filtered = df[df['year'] == selected_year]\n",
    "    if selected_type:\n",
    "        filtered = filtered[filtered['type'] == selected_type]\n",
    "    fig = px.scatter(filtered, x='members', y='score', color='type',\n",
    "                     size='episodes', hover_name='title',\n",
    "                     title=f'Score vs Jumlah Member ({selected_year})')\n",
    "    fig.update_layout(xaxis_title='Jumlah Member', yaxis_title='Score')\n",
    "    return fig\n",
    "\n",
    "# Run app\n",
    "if __name__ == '__main__':\n",
    "    app.run(debug=True, port = 8055)\n"
   ]
  },
  {
   "cell_type": "code",
   "execution_count": null,
   "id": "dcf581a9-17ee-4c3d-9f4d-13636eac8b21",
   "metadata": {},
   "outputs": [],
   "source": []
  }
 ],
 "metadata": {
  "kernelspec": {
   "display_name": "base",
   "language": "python",
   "name": "python3"
  },
  "language_info": {
   "codemirror_mode": {
    "name": "ipython",
    "version": 3
   },
   "file_extension": ".py",
   "mimetype": "text/x-python",
   "name": "python",
   "nbconvert_exporter": "python",
   "pygments_lexer": "ipython3",
   "version": "3.12.9"
  }
 },
 "nbformat": 4,
 "nbformat_minor": 5
}
